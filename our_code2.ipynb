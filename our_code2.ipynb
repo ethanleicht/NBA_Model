{
 "cells": [
  {
   "cell_type": "code",
   "execution_count": 4,
   "metadata": {},
   "outputs": [],
   "source": [
    "import pandas as pd\n",
    "\n",
    "# team data\n",
    "team_summaries = pd.read_csv('nba_data/stats_archive/Team Summaries.csv')\n",
    "team_totals = pd.read_csv('nba_data/stats_archive/Team Totals.csv')\n",
    "team_per100 = pd.read_csv('nba_data/stats_archive/Team Stats Per 100 Poss.csv')\n",
    "\n",
    "# player data\n",
    "player_totals = pd.read_csv('nba_data/stats_archive/Player Totals.csv')\n",
    "player_shooting = pd.read_csv('nba_data/stats_archive/Player Shooting.csv')\n",
    "player_play_by_play = pd.read_csv('nba_data/stats_archive/Player Play By Play.csv')\n",
    "player_per100 = pd.read_csv('nba_data/stats_archive/Per 100 Poss.csv')\n",
    "\n",
    "# games\n",
    "games = pd.read_csv('nba_data/game_archive/games.csv')\n"
   ]
  }
 ],
 "metadata": {
  "kernelspec": {
   "display_name": "base",
   "language": "python",
   "name": "python3"
  },
  "language_info": {
   "codemirror_mode": {
    "name": "ipython",
    "version": 3
   },
   "file_extension": ".py",
   "mimetype": "text/x-python",
   "name": "python",
   "nbconvert_exporter": "python",
   "pygments_lexer": "ipython3",
   "version": "3.9.12"
  }
 },
 "nbformat": 4,
 "nbformat_minor": 2
}
