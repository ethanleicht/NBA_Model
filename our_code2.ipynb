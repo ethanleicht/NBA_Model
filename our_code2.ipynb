{
 "cells": [
  {
   "cell_type": "markdown",
   "metadata": {},
   "source": [
    "Read CSV data with Pandas."
   ]
  },
  {
   "cell_type": "code",
   "execution_count": 113,
   "metadata": {},
   "outputs": [],
   "source": [
    "import pandas as pd\n",
    "\n",
    "# team stats\n",
    "team_summaries = pd.read_csv('nba_data/stats_archive/Team Summaries.csv')\n",
    "# team_totals = pd.read_csv('nba_data/stats_archive/Team Totals.csv')\n",
    "team_per100 = pd.read_csv('nba_data/stats_archive/Team Stats Per 100 Poss.csv')\n",
    "\n",
    "# player stats\n",
    "# player_totals = pd.read_csv('nba_data/stats_archive/Player Totals.csv')\n",
    "player_shooting = pd.read_csv('nba_data/stats_archive/Player Shooting.csv')\n",
    "player_play_by_play = pd.read_csv('nba_data/stats_archive/Player Play By Play.csv')\n",
    "player_per100 = pd.read_csv('nba_data/stats_archive/Per 100 Poss.csv')\n",
    "\n",
    "# games\n",
    "games = pd.read_csv('nba_data/game_archive/games.csv')\n",
    "teamids = pd.read_csv('nba_data/game_archive/teams.csv')\n"
   ]
  },
  {
   "cell_type": "markdown",
   "metadata": {},
   "source": [
    "Remove unnecessary features."
   ]
  },
  {
   "cell_type": "code",
   "execution_count": 114,
   "metadata": {},
   "outputs": [],
   "source": [
    "# games\n",
    "teamids['TEAM_NAME'] = teamids['CITY'] + ' ' + teamids['NICKNAME']\n",
    "teamids = teamids[['TEAM_ID','TEAM_NAME','ABBREVIATION']]\n",
    "\n",
    "games = games[['GAME_DATE_EST','GAME_ID','HOME_TEAM_ID','VISITOR_TEAM_ID','SEASON','HOME_TEAM_WINS','PTS_home','PTS_away']]"
   ]
  },
  {
   "cell_type": "code",
   "execution_count": 119,
   "metadata": {},
   "outputs": [],
   "source": [
    "# team stats\n",
    "team_stats = team_summaries.merge(team_per100)\n",
    "team_stats.drop(columns=['playoffs','arena','attend'], inplace=True)\n",
    "\n",
    "# player stats\n",
    "player_stats = player_shooting.merge(player_play_by_play).merge(player_per100)\n",
    "player_stats.drop(columns=['birth_year','pos'], inplace=True)"
   ]
  },
  {
   "cell_type": "markdown",
   "metadata": {},
   "source": [
    "Create player efficiency indices.\n",
    "\n",
    "𝐼NBA=𝑁pts+𝑁rbs+𝑁asts+𝑁stls+𝑁blcks−(𝑁msFld+𝑁msFT+𝑁tos)"
   ]
  },
  {
   "cell_type": "code",
   "execution_count": null,
   "metadata": {},
   "outputs": [],
   "source": []
  }
 ],
 "metadata": {
  "kernelspec": {
   "display_name": "base",
   "language": "python",
   "name": "python3"
  },
  "language_info": {
   "codemirror_mode": {
    "name": "ipython",
    "version": 3
   },
   "file_extension": ".py",
   "mimetype": "text/x-python",
   "name": "python",
   "nbconvert_exporter": "python",
   "pygments_lexer": "ipython3",
   "version": "3.9.12"
  }
 },
 "nbformat": 4,
 "nbformat_minor": 2
}
