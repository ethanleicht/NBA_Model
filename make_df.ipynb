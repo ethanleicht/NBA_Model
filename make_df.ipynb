{
 "cells": [
  {
   "cell_type": "markdown",
   "metadata": {},
   "source": [
    "Read CSV data with Pandas."
   ]
  },
  {
   "cell_type": "code",
   "execution_count": 1,
   "metadata": {},
   "outputs": [],
   "source": [
    "import pandas as pd\n",
    "import numpy as np\n",
    "\n",
    "# team stats\n",
    "team_summaries = pd.read_csv('nba_data/stats_archive/Team Summaries.csv')\n",
    "# team_totals = pd.read_csv('nba_data/stats_archive/Team Totals.csv')\n",
    "team_per100 = pd.read_csv('nba_data/stats_archive/Team Stats Per 100 Poss.csv')\n",
    "\n",
    "# player stats\n",
    "# player_totals = pd.read_csv('nba_data/stats_archive/Player Totals.csv')\n",
    "player_shooting = pd.read_csv('nba_data/stats_archive/Player Shooting.csv')\n",
    "player_play_by_play = pd.read_csv('nba_data/stats_archive/Player Play By Play.csv')\n",
    "player_per100 = pd.read_csv('nba_data/stats_archive/Per 100 Poss.csv')\n",
    "\n",
    "# games\n",
    "games = pd.read_csv('nba_data/game_archive/games.csv')\n",
    "teamids = pd.read_csv('nba_data/game_archive/teams.csv')\n"
   ]
  },
  {
   "cell_type": "markdown",
   "metadata": {},
   "source": [
    "Remove unnecessary features."
   ]
  },
  {
   "cell_type": "code",
   "execution_count": 2,
   "metadata": {},
   "outputs": [],
   "source": [
    "# games\n",
    "teamids['TEAM_NAME'] = teamids['CITY'] + ' ' + teamids['NICKNAME']\n",
    "teamids = teamids[['TEAM_ID','TEAM_NAME','ABBREVIATION']]\n",
    "\n",
    "games = games[['GAME_DATE_EST','GAME_ID','HOME_TEAM_ID','VISITOR_TEAM_ID','SEASON','HOME_TEAM_WINS','PTS_home','PTS_away']]"
   ]
  },
  {
   "cell_type": "code",
   "execution_count": 3,
   "metadata": {},
   "outputs": [],
   "source": [
    "# team stats\n",
    "team_stats = team_summaries.merge(team_per100)\n",
    "team_stats.drop(columns=['playoffs','arena','attend','lg'], inplace=True)\n",
    "\n",
    "# player stats\n",
    "player_stats = player_shooting.merge(player_play_by_play).merge(player_per100)\n",
    "player_stats.drop(columns=['birth_year','pos','lg'], inplace=True)"
   ]
  },
  {
   "cell_type": "markdown",
   "metadata": {},
   "source": [
    "Create player efficiency indices.\n",
    "\n",
    "𝐼NBA=𝑁pts+𝑁rbs+𝑁asts+𝑁stls+𝑁blcks−(𝑁msFld+𝑁msFT+𝑁tos)"
   ]
  },
  {
   "cell_type": "code",
   "execution_count": 4,
   "metadata": {},
   "outputs": [],
   "source": [
    "player_stats['player_eff_ind'] = (player_stats['pts_per_100_poss'] +\n",
    "                           player_stats['trb_per_100_poss'] +\n",
    "                           player_stats['ast_per_100_poss'] +\n",
    "                           player_stats['stl_per_100_poss'] +\n",
    "                           player_stats['blk_per_100_poss'] -\n",
    "                           (player_stats['tov_per_100_poss'] +\n",
    "                            player_stats['fga_per_100_poss'] - player_stats['fg_per_100_poss'] +\n",
    "                            player_stats['fta_per_100_poss'] - player_stats['ft_per_100_poss']))"
   ]
  },
  {
   "cell_type": "markdown",
   "metadata": {},
   "source": [
    "Create team efficiency indices."
   ]
  },
  {
   "cell_type": "code",
   "execution_count": 5,
   "metadata": {},
   "outputs": [],
   "source": [
    "#create the team efficeny index by summing the players by season and team \n",
    "team_eff_ind = player_stats.groupby(['tm', 'season'])['player_eff_ind'].sum().reset_index(name='team_eff_ind')\n",
    "team_eff_ind.rename(columns = {'tm':'abbreviation'}, inplace = True)"
   ]
  },
  {
   "cell_type": "code",
   "execution_count": 6,
   "metadata": {},
   "outputs": [],
   "source": [
    "#merging the team efficeny index to team_stats\n",
    "team_stats = team_stats.merge(team_eff_ind)"
   ]
  },
  {
   "cell_type": "code",
   "execution_count": 7,
   "metadata": {},
   "outputs": [],
   "source": [
    "team_stats['next_season'] = team_stats['season'] + 1"
   ]
  },
  {
   "cell_type": "markdown",
   "metadata": {},
   "source": [
    "To each game, append home and away team stats in the respective season."
   ]
  },
  {
   "cell_type": "code",
   "execution_count": 8,
   "metadata": {},
   "outputs": [],
   "source": [
    "# add team_id to team stats\n",
    "teamids.rename(columns = {'ABBREVIATION':'abbreviation','TEAM_NAME':'team'}, inplace = True)\n",
    "team_stats = team_stats.merge(teamids)\n",
    "team_stats.drop(columns=['team','abbreviation'], inplace = True)"
   ]
  },
  {
   "cell_type": "code",
   "execution_count": 13,
   "metadata": {},
   "outputs": [],
   "source": [
    "# add home team stats to games\n",
    "h_team_stats = team_stats.add_prefix('h_')\n",
    "final_df = games.merge(h_team_stats, left_on=['HOME_TEAM_ID','SEASON'], right_on=['h_TEAM_ID','h_next_season'])\n",
    "final_df.drop(columns=['h_season','h_next_season','h_TEAM_ID'], inplace = True)\n",
    "\n",
    "# add away team stats to games\n",
    "a_team_stats = team_stats.add_prefix('a_')\n",
    "final_df = final_df.merge(a_team_stats, left_on=['VISITOR_TEAM_ID','SEASON'], right_on=['a_TEAM_ID','a_next_season'])\n",
    "final_df.drop(columns=['a_season','a_next_season','a_TEAM_ID'], inplace = True)"
   ]
  },
  {
   "cell_type": "code",
   "execution_count": 15,
   "metadata": {},
   "outputs": [
    {
     "data": {
      "text/plain": [
       "(2003, 2022)"
      ]
     },
     "execution_count": 15,
     "metadata": {},
     "output_type": "execute_result"
    }
   ],
   "source": [
    "min(final_df.SEASON), max(final_df.SEASON)"
   ]
  },
  {
   "cell_type": "code",
   "execution_count": 16,
   "metadata": {},
   "outputs": [],
   "source": [
    "# sort games by date, ascending\n",
    "final_df['GAME_DATE_EST'] = pd.to_datetime(final_df['GAME_DATE_EST'])\n",
    "final_df = final_df.sort_values(by='GAME_DATE_EST', ascending=True).reset_index(drop=True)"
   ]
  },
  {
   "cell_type": "markdown",
   "metadata": {},
   "source": [
    "Add novel features from the parent paper."
   ]
  },
  {
   "cell_type": "code",
   "execution_count": 17,
   "metadata": {},
   "outputs": [],
   "source": [
    "import warnings\n",
    "warnings.filterwarnings(\"ignore\")\n",
    "\n",
    "final_df = final_df[final_df['HOME_TEAM_WINS'].notna()]\n",
    "\n",
    "def get_avg_win_pct_last_n_games(team, game_date, df, n):\n",
    "    # Extract the last 10 games \n",
    "    prev_game_df = df[df['GAME_DATE_EST'] < game_date][(df['HOME_TEAM_ID'] == team) | (df['VISITOR_TEAM_ID'] == team)].tail(n)\n",
    "    \n",
    "    wins = 0 \n",
    "    # Filter columns to include only 'Home' team and result, then divide into home and away games        \n",
    "    result_df = prev_game_df\n",
    "    h_df = result_df.loc[result_df['HOME_TEAM_ID'] == team] \n",
    "    \n",
    "    h_wins = h_df.loc[h_df['HOME_TEAM_WINS'] == 1]\n",
    "    \n",
    "    wins += len(h_wins)\n",
    "    \n",
    "    a_df = result_df.loc[result_df['HOME_TEAM_ID'] != team]\n",
    "    a_wins = a_df.loc[a_df['HOME_TEAM_WINS'] == 0]\n",
    "    \n",
    "    wins += len(a_wins)\n",
    "\n",
    "    return wins/n\n",
    "\n",
    "for index, row in final_df.iterrows() : \n",
    "    game_id = row['GAME_ID']\n",
    "    game_date = row['GAME_DATE_EST']\n",
    "    h_team = row['HOME_TEAM_ID']\n",
    "    a_team = row['VISITOR_TEAM_ID']\n",
    "    final_df.loc[index,'H_w_pct_10'] = get_avg_win_pct_last_n_games(h_team, game_date, final_df, 10)\n",
    "    final_df.loc[index,'A_w_pct_10'] = get_avg_win_pct_last_n_games(a_team, game_date, final_df, 10)"
   ]
  },
  {
   "cell_type": "code",
   "execution_count": 18,
   "metadata": {},
   "outputs": [],
   "source": [
    "# Home and road team win probabilities implied by Elo ratings and home court adjustment \n",
    "import math\n",
    "# import time\n",
    "\n",
    "final_df = final_df[final_df['PTS_away'].notna() & final_df['PTS_home'].notna()]\n",
    "\n",
    "# Calculate win probabilities using Elo ratings and home court advantage\n",
    "def win_probs(home_elo, away_elo, home_court_advantage) :\n",
    "    h = math.pow(10, home_elo/400)\n",
    "    r = math.pow(10, away_elo/400)\n",
    "    a = math.pow(10, home_court_advantage/400) \n",
    "\n",
    "    denom = r + a*h\n",
    "    home_prob = a*h / denom\n",
    "    away_prob = r / denom \n",
    "  \n",
    "    return home_prob, away_prob\n",
    "\n",
    "# Calculate odds of the home team winning based on Elo ratings and home court advantage\n",
    "def home_odds_on(home_elo, away_elo, home_court_advantage) :\n",
    "    h = math.pow(10, home_elo/400)\n",
    "    r = math.pow(10, away_elo/400)\n",
    "    a = math.pow(10, home_court_advantage/400)\n",
    "    return a*h/r\n",
    "\n",
    "# Determines the K factor in Elo rating updates, considering the margin of victory and Elo rating difference\n",
    "def elo_k(MOV, elo_diff):\n",
    "    k = 20\n",
    "    if MOV>0:\n",
    "        multiplier=(MOV+3)**(0.8)/(7.5+0.006*(elo_diff))\n",
    "    else:\n",
    "        multiplier=(-MOV+3)**(0.8)/(7.5+0.006*(-elo_diff))\n",
    "    return k*multiplier\n",
    "\n",
    "# Update Elo ratings for both teams following a game, considering the outcome and game specifics\n",
    "def update_elo(home_score, away_score, home_elo, away_elo, home_court_advantage) :\n",
    "    home_prob, away_prob = win_probs(home_elo, away_elo, home_court_advantage) \n",
    "\n",
    "    if (home_score - away_score > 0) :\n",
    "        home_win = 1 \n",
    "        away_win = 0 \n",
    "    else :\n",
    "        home_win = 0 \n",
    "        away_win = 1 \n",
    "  \n",
    "    k = elo_k(home_score - away_score, home_elo - away_elo)\n",
    "\n",
    "    updated_home_elo = home_elo + k * (home_win - home_prob) \n",
    "    updated_away_elo = away_elo + k * (away_win - away_prob)\n",
    "    \n",
    "    return updated_home_elo, updated_away_elo\n",
    "\n",
    "# Define a function to retrieve a team's Elo rating before a given game, adjusting for season transitions\n",
    "def get_prev_elo(team, date, season, team_stats, elo_df) :\n",
    "    prev_game = team_stats[team_stats['GAME_DATE_EST'] < date][(team_stats['HOME_TEAM_ID'] == team) | (team_stats['VISITOR_TEAM_ID'] == team)].tail(1).iloc[0] \n",
    "\n",
    "    if team == prev_game['HOME_TEAM_ID'] :\n",
    "        elo_rating = elo_df[elo_df['GAME_ID'] == prev_game['GAME_ID']]['H_Team_Elo_After'].values[0]\n",
    "    else :\n",
    "        elo_rating = elo_df[elo_df['GAME_ID'] == prev_game['GAME_ID']]['A_Team_Elo_After'].values[0]\n",
    "  \n",
    "    if prev_game['SEASON'] != season :\n",
    "        return (0.75 * elo_rating) + (0.25 * 1505)\n",
    "    else :\n",
    "        return elo_rating\n",
    "\n",
    "# create elo feature\n",
    "elo_df = pd.DataFrame(columns=['GAME_ID', 'HOME_TEAM_ID', 'VISITOR_TEAM_ID', 'H_Team_Elo_Before', 'A_Team_Elo_Before', 'H_Team_Elo_After', 'A_Team_Elo_After'])\n",
    "teams_elo_df = pd.DataFrame(columns=['GAME_ID','Team', 'Elo', 'GAME_DATE_EST', 'Where_Played', 'SEASON'])\n",
    "\n",
    "# create elo feature\n",
    "elo_df = pd.DataFrame(columns=['GAME_ID', 'HOME_TEAM_ID', 'VISITOR_TEAM_ID', 'H_Team_Elo_Before', 'A_Team_Elo_Before', 'H_Team_Elo_After', 'A_Team_Elo_After'])\n",
    "teams_elo_df = pd.DataFrame(columns=['GAME_ID','Team', 'Elo', 'GAME_DATE_EST', 'Where_Played', 'SEASON'])\n",
    "\n",
    "# Loop through each game to update ELO ratings\n",
    "for index, row in final_df.iterrows(): \n",
    "    game_id = row['GAME_ID']\n",
    "    game_date = row['GAME_DATE_EST']\n",
    "    season = row['SEASON']\n",
    "    h_team, a_team = row['HOME_TEAM_ID'], row['VISITOR_TEAM_ID']\n",
    "    h_score, a_score = row['PTS_home'], row['PTS_away'] \n",
    "    # Set or get previous Elo ratings\n",
    "    if (h_team not in elo_df['HOME_TEAM_ID'].values and h_team not in elo_df['VISITOR_TEAM_ID'].values) :\n",
    "        h_team_elo_before = 1500\n",
    "    else :\n",
    "        h_team_elo_before = get_prev_elo(h_team, game_date, season, final_df, elo_df)\n",
    "\n",
    "    if (a_team not in elo_df['HOME_TEAM_ID'].values and a_team not in elo_df['VISITOR_TEAM_ID'].values) :\n",
    "        a_team_elo_before = 1500\n",
    "    else :\n",
    "        a_team_elo_before = get_prev_elo(a_team, game_date, season, final_df, elo_df)\n",
    "\n",
    "    h_team_elo_after, a_team_elo_after = update_elo(h_score, a_score, h_team_elo_before, a_team_elo_before, 69)\n",
    "\n",
    "    new_row = {'GAME_ID': game_id, 'HOME_TEAM_ID': h_team, 'VISITOR_TEAM_ID': a_team, 'H_Team_Elo_Before': h_team_elo_before, 'A_Team_Elo_Before': a_team_elo_before, \\\n",
    "                                                                        'H_Team_Elo_After' : h_team_elo_after, 'A_Team_Elo_After': a_team_elo_after}\n",
    "    teams_row_one = {'GAME_ID': game_id,'Team': h_team, 'Elo': h_team_elo_before, 'GAME_DATE_EST': game_date, 'Where_Played': 'HOME_TEAM_ID', 'SEASON': season}\n",
    "    teams_row_two = {'GAME_ID': game_id,'Team': a_team, 'Elo': a_team_elo_before, 'GAME_DATE_EST': game_date, 'Where_Played': 'VISITOR_TEAM_ID', 'SEASON': season}\n",
    "    \n",
    "    # Record Elo ratings in elo_df and teams_elo_df\n",
    "    elo_df.loc[len(elo_df)] = new_row\n",
    "    teams_elo_df.loc[len(teams_elo_df)] = teams_row_one\n",
    "    teams_elo_df.loc[len(teams_elo_df)] = teams_row_two\n",
    "\n",
    "teams_elo_df['Elo'] = teams_elo_df['Elo'].astype(float)\n",
    "# Merge updated Elo ratings back into the main DataFrame\n",
    "final_df = final_df.merge(elo_df.drop(columns=['HOME_TEAM_ID', 'VISITOR_TEAM_ID']), on ='GAME_ID')"
   ]
  },
  {
   "cell_type": "code",
   "execution_count": 19,
   "metadata": {},
   "outputs": [],
   "source": [
    "# save final df, game season and stats previous season align\n",
    "final_df.to_csv(r'nba_data\\nba_df_final.csv', index = False)"
   ]
  }
 ],
 "metadata": {
  "kernelspec": {
   "display_name": "base",
   "language": "python",
   "name": "python3"
  },
  "language_info": {
   "codemirror_mode": {
    "name": "ipython",
    "version": 3
   },
   "file_extension": ".py",
   "mimetype": "text/x-python",
   "name": "python",
   "nbconvert_exporter": "python",
   "pygments_lexer": "ipython3",
   "version": "3.9.12"
  }
 },
 "nbformat": 4,
 "nbformat_minor": 2
}
